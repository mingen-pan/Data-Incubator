{
 "cells": [
  {
   "cell_type": "code",
   "execution_count": 2,
   "metadata": {},
   "outputs": [
    {
     "name": "stderr",
     "output_type": "stream",
     "text": [
      "/usr/local/lib/python3.6/site-packages/matplotlib/font_manager.py:232: UserWarning: Matplotlib is building the font cache using fc-list. This may take a moment.\n",
      "  'Matplotlib is building the font cache using fc-list. '\n"
     ]
    }
   ],
   "source": [
    "import numpy as np\n",
    "import pandas as pd\n",
    "import os\n",
    "from datetime import date\n",
    "import matplotlib.pyplot as plt\n",
    "import time\n",
    "import sys"
   ]
  },
  {
   "cell_type": "markdown",
   "metadata": {},
   "source": [
    "## Q1"
   ]
  },
  {
   "cell_type": "markdown",
   "metadata": {},
   "source": [
    "### Total Payment"
   ]
  },
  {
   "cell_type": "code",
   "execution_count": 11,
   "metadata": {},
   "outputs": [
    {
     "name": "stderr",
     "output_type": "stream",
     "text": [
      "/usr/local/lib/python3.6/site-packages/IPython/core/interactiveshell.py:3020: DtypeWarning: Columns (0) have mixed types. Specify dtype option on import or set low_memory=False.\n",
      "  interactivity=interactivity, compiler=compiler, result=result)\n"
     ]
    }
   ],
   "source": [
    "series_csv = pd.Series()\n",
    "file_names = []\n",
    "for name in os.listdir():\n",
    "    if \"detail\" in name:\n",
    "        if \"2015Q2\" in name and \"updated\" not in name:\n",
    "            continue\n",
    "        file_names.append(name)\n",
    "        try:\n",
    "            series_csv[name[:6]] = pd.read_csv(name)\n",
    "        except:\n",
    "            series_csv[name[:6]] = pd.read_csv(name, encoding = 'latin1')\n",
    "        \n",
    "        "
   ]
  },
  {
   "cell_type": "code",
   "execution_count": 12,
   "metadata": {
    "collapsed": true
   },
   "outputs": [],
   "source": [
    "def str2float(x):\n",
    "    if type(x) == str:\n",
    "        x = x.replace(',', '')\n",
    "        return float(x)\n",
    "    return x\n",
    "\n",
    "def str2int(x):\n",
    "    x = str(x)\n",
    "    if '-' in x:\n",
    "        sign = -1\n",
    "        x = x.replace('-', '')\n",
    "    else:\n",
    "        sign = 1\n",
    "    x = x.replace(',', '')\n",
    "    if '.' not in x:\n",
    "        x = x + '.00'\n",
    "    x = x.split('.')\n",
    "    if len(x[1]) < 2:\n",
    "        add_len = 2 - len(x[1])\n",
    "        x[1] = x[1] + '0' * add_len\n",
    "    x = int(x[0]) * 100 + int(x[1][:2])\n",
    "    return sign*x\n",
    "\n",
    "total_amount = []\n",
    "total_amount_ = []\n",
    "for item in series_csv:\n",
    "    item['AMOUNT_'] = item['AMOUNT'].apply(str2int)\n",
    "    item['AMOUNT'] = item['AMOUNT'].apply(str2float)\n",
    "    total_amount_.append(item['AMOUNT_'])\n",
    "    total_amount.append(item['AMOUNT'])\n",
    "total_amount_ = pd.concat(total_amount_, ignore_index = True)\n",
    "total_amount = pd.concat(total_amount, ignore_index = True)"
   ]
  },
  {
   "cell_type": "code",
   "execution_count": 13,
   "metadata": {},
   "outputs": [
    {
     "name": "stdout",
     "output_type": "stream",
     "text": [
      "13660703793.3\n",
      "1366070379331\n"
     ]
    }
   ],
   "source": [
    "print(total_amount.sum())\n",
    "print(total_amount_.sum())"
   ]
  },
  {
   "cell_type": "markdown",
   "metadata": {},
   "source": [
    "### Coverage Period"
   ]
  },
  {
   "cell_type": "code",
   "execution_count": 14,
   "metadata": {
    "collapsed": true
   },
   "outputs": [],
   "source": [
    "def norm_time(time):\n",
    "    time = time.split('/')\n",
    "    if len(time) < 3:\n",
    "        return None\n",
    "    if len(time[2]) == 2:\n",
    "        time[2] = '20' + time[2]\n",
    "    return date(year = int(time[2]), month = int(time[0]), day = int(time[1]))\n",
    "\n",
    "\n",
    "def get_days(df):\n",
    "    mask = (df['START DATE'].apply(lambda x: type(x) == str and x.count('/') == 2))\n",
    "    df = df[mask]\n",
    "    start = df['START DATE'].apply(norm_time)   \n",
    "    end = df['END DATE'].apply(norm_time) \n",
    "    return (end - start).apply(lambda x: x.days), start, end"
   ]
  },
  {
   "cell_type": "code",
   "execution_count": 15,
   "metadata": {
    "scrolled": true
   },
   "outputs": [
    {
     "name": "stdout",
     "output_type": "stream",
     "text": [
      "2009Q3\n",
      "2009Q4\n",
      "2010Q1\n",
      "2010Q2\n",
      "2010Q3\n",
      "2010Q4\n",
      "2011Q1\n",
      "2011Q2\n",
      "2011Q3\n",
      "2011Q4\n",
      "2012Q1\n",
      "2012Q2\n",
      "2012Q3\n",
      "2012Q4\n",
      "2013Q1\n",
      "2013Q2\n",
      "2013Q3\n",
      "2013Q4\n",
      "2014Q1\n",
      "2014Q2\n",
      "2014Q3\n",
      "2014Q4\n",
      "2015Q1\n",
      "2015Q2\n",
      "2015Q3\n",
      "2015Q4\n",
      "2016Q1\n",
      "2016Q2\n",
      "2016Q3\n",
      "2016Q4\n",
      "2017Q1\n",
      "2017Q2\n",
      "2017Q3\n",
      "2017Q4\n",
      "2018Q1\n"
     ]
    }
   ],
   "source": [
    "periods = []\n",
    "for name, item in series_csv.items():\n",
    "    print(name)\n",
    "    item['Coverage Period'], item['START DATE_'], item['END DATE_'] = get_days(item)\n",
    "    mask = item['AMOUNT_'] > 0\n",
    "    periods.append(item.loc[mask, ['START DATE', 'END DATE','Coverage Period']])\n",
    "periods = pd.concat(periods, ignore_index = True)"
   ]
  },
  {
   "cell_type": "code",
   "execution_count": 16,
   "metadata": {},
   "outputs": [
    {
     "data": {
      "text/plain": [
       "63.918315772301341"
      ]
     },
     "execution_count": 16,
     "metadata": {},
     "output_type": "execute_result"
    }
   ],
   "source": [
    "periods['Coverage Period'].std()"
   ]
  },
  {
   "cell_type": "markdown",
   "metadata": {},
   "source": [
    "### JAN-01-2010 to Dec-31-2016"
   ]
  },
  {
   "cell_type": "code",
   "execution_count": 17,
   "metadata": {
    "scrolled": true
   },
   "outputs": [
    {
     "name": "stdout",
     "output_type": "stream",
     "text": [
      "2009Q3\n",
      "2009Q4\n",
      "2010Q1\n",
      "2010Q2\n",
      "2010Q3\n",
      "2010Q4\n",
      "2011Q1\n",
      "2011Q2\n",
      "2011Q3\n",
      "2011Q4\n",
      "2012Q1\n",
      "2012Q2\n",
      "2012Q3\n",
      "2012Q4\n",
      "2013Q1\n",
      "2013Q2\n",
      "2013Q3\n",
      "2013Q4\n",
      "2014Q1\n",
      "2014Q2\n",
      "2014Q3\n",
      "2014Q4\n",
      "2015Q1\n",
      "2015Q2\n",
      "2015Q3\n",
      "2015Q4\n",
      "2016Q1\n",
      "2016Q2\n",
      "2016Q3\n",
      "2016Q4\n",
      "2017Q1\n",
      "2017Q2\n",
      "2017Q3\n",
      "2017Q4\n",
      "2018Q1\n"
     ]
    }
   ],
   "source": [
    "annual_amount = []\n",
    "for name, item in series_csv.items():\n",
    "    print(name)\n",
    "    mask = (item['START DATE_'] >= date(2010, 1, 1)) & (item['START DATE_'] <= date(2016, 12, 31))\n",
    "    mask &= item['AMOUNT_'] > 0\n",
    "    annual_amount.append(item.loc[mask, 'AMOUNT_'])\n",
    "annual_amount = pd.concat(annual_amount, ignore_index = True)"
   ]
  },
  {
   "cell_type": "code",
   "execution_count": 18,
   "metadata": {},
   "outputs": [
    {
     "data": {
      "text/plain": [
       "1223251095.0314286"
      ]
     },
     "execution_count": 18,
     "metadata": {},
     "output_type": "execute_result"
    }
   ],
   "source": [
    "annual_amount.sum()/700"
   ]
  },
  {
   "cell_type": "markdown",
   "metadata": {},
   "source": [
    "### Highest fraction in 2016"
   ]
  },
  {
   "cell_type": "code",
   "execution_count": 40,
   "metadata": {
    "collapsed": true,
    "scrolled": true
   },
   "outputs": [],
   "source": [
    "def office_name_norm(x):\n",
    "    idx  = x.find('20')\n",
    "    if idx >= 0:\n",
    "        x = x[idx+5:]\n",
    "    x = x.replace(',', ' ')\n",
    "    x = x.replace('.', ' ')\n",
    "    x = x.replace('\"', ' ')\n",
    "    x = x.replace('-', ' ')\n",
    "    return ' '.join(x.split())\n",
    "\n",
    "data_2016 = []\n",
    "for name, item in series_csv.items():\n",
    "    mask = (item['START DATE_'] >= date(2016, 1, 1)) & (item['START DATE_'] <= date(2016, 12, 31))\n",
    "    item[\"OFFICE_\"] = item['OFFICE'].apply(office_name_norm)\n",
    "    data_2016.append(item.loc[mask])\n",
    "data_2016 = pd.concat(data_2016, ignore_index = True, sort=False)"
   ]
  },
  {
   "cell_type": "code",
   "execution_count": 41,
   "metadata": {},
   "outputs": [
    {
     "data": {
      "text/plain": [
       "array(['HON KEVIN BRADY', 'HON JUDY CHU', 'HON TIM WALBERG',\n",
       "       'COMMITTEE ON AGRICULTURE', 'HON BLAKE FARENTHOLD',\n",
       "       'HON MICHAEL G GRIMM', 'HON FRANK A LOBIONDO',\n",
       "       'HON GRACE F NAPOLITANO', 'HON BETO OROURKE', 'HON THOMAS J ROONEY',\n",
       "       'HON KEITH J ROTHFUS', 'HON ADAM SMITH', 'HON ADRIAN SMITH',\n",
       "       'HOMELAND SECURITY', 'HON CANDICE S MILLER',\n",
       "       'CHIEF ADMIN OFCR OF THE HOUSE', 'HON MARK E AMODEI',\n",
       "       'HON MADELEINE Z BORDALLO', 'HON BILLY LONG', 'HON BETTY MCCOLLUM',\n",
       "       'HON C A DUTCH RUPPERSBERGER', 'HON MAC THORNBERRY',\n",
       "       'COMMITTEE ON JUDICIARY', 'COMMITTEE ON WAYS AND MEANS',\n",
       "       'OFFICE OF THE SPEAKER', 'OFFICE OF THE MINORITY LEADER',\n",
       "       'OFFICE OF THE MAJORITY WHIP', 'DEMOCRATIC CAUCUS',\n",
       "       'LEGISLATIVE COUNSEL', 'HON ROBERT B ADERHOLT', 'HON PETE AGUILAR',\n",
       "       'HON RICK W ALLEN', 'HON BRIAN BABIN', 'HON LOU BARLETTA',\n",
       "       'HON JOE BARTON', 'HON KAREN BASS', 'HON JOYCE BEATTY',\n",
       "       'HON XAVIER BECARRA', 'HON DAN BENISHEK', 'HON AMI BERA',\n",
       "       'HON DONALD S BEYER JR', 'HON GUS M BILIRAKIS', 'HON ROB BISHOP',\n",
       "       'HON SANFORD D BISHOP JR', 'HON DIANE BLACK',\n",
       "       'HON MARSHA BLACKBURN', 'HON CHARLES W BOUSTANY JR',\n",
       "       'HON BRENDAN F BOYLE', 'HON ROBERT A BRADY', 'HON JIM BRIDENSTINE',\n",
       "       'HON SUSAN W BROOKS', 'HON CORRINE BROWN', 'HON VERN G BUCHANAN',\n",
       "       'HON LARRY BUCSHON', 'HON MICHAEL C BURGESS', 'HON CHERI BUSTOS',\n",
       "       'HON BRADLEY BYRNE', 'HON KEN CALVERT', 'HON LOIS CAPPS',\n",
       "       'HON MICHAEL E CAPUANO', 'HON TONY CARDENAS',\n",
       "       'HON JOHN C CARNEY JR', 'HON EARL L BUDDY CARTER',\n",
       "       'HON MATTHEW A CARTWRIGHT', 'HON JASON CHAFFETZ',\n",
       "       'HON DAVID N CICILLINE', 'HON KATHERINE M CLARK',\n",
       "       'HON CURT CLAWSON', 'HON WILLIAM LACY CLAY', 'HON EMANUEL CLEAVER',\n",
       "       'HON MIKE COFFMAN', 'HON STEVE COHEN', 'HON TOM COLE',\n",
       "       'HON DOUG COLLINS', 'HON BARBARA COMSTOCK', 'HON K MICHAEL CONAWAY',\n",
       "       'HON GERALD E GERRY CONNOLLY', 'HON JIM COOPER', 'HON JIM COSTA',\n",
       "       'HON ERIC A RICK CRAWFORD', 'HON ANDER CRENSHAW',\n",
       "       'HON JOSEPH CROWLEY', 'HON HENRY CUELLAR',\n",
       "       'HON JOHN ABNEY CULBERSON', 'HON ELIJAH E CUMMINGS',\n",
       "       'HON CARLOS CURBELO', 'HON RODNEY DAVIS', 'HON SUSAN A DAVIS',\n",
       "       'HON PETER A DEFAZIO', 'HON ROSA L DELAURO', 'HON SUZAN K DELBENE',\n",
       "       'HON JEFF DENHAM', 'HON CHARLES W DENT', 'HON RON DESANTIS',\n",
       "       'HON MARK DESAULNIER', 'HON SCOTT DESJARLAIS',\n",
       "       'HON MARIO DIAZ BALART', 'HON LLOYD DOGGETT', 'HON ROBERT J DOLD',\n",
       "       'HON DANIEL M DONOVAN JR', 'HON MICHAEL F DOYLE',\n",
       "       'HON TAMMY DUCKWORTH', 'HON SEAN P DUFFY', 'HON JEFF DUNCAN',\n",
       "       'HON DONNA F EDWARDS', 'HON KEITH ELLISON', 'HON TOM EMMER',\n",
       "       'HON ELIOT L ENGEL', 'HON ANNA G ESHOO', 'HON ELIZABETH H ESTY',\n",
       "       'HON SAM FARR', 'HON STEPHEN LEE FINCHER', 'HON JOHN FLEMING',\n",
       "       'HON BILL FLORES', 'HON J RANDY FORBES', 'HON BILL FOSTER',\n",
       "       'HON VIRGINIA FOXX', 'HON LOIS FRANKEL', 'HON TRENT FRANKS',\n",
       "       'HON RODNEY P FRELINGHUYSEN', 'HON MARCIA FUDGE',\n",
       "       'HON TULSI GABBARD', 'HON RUBEN GALLEGO', 'HON JOHN GARAMENDI',\n",
       "       'HON SCOTT GARRETT', 'HON CHRISTOPHER P GIBSON',\n",
       "       'HON BOB GOODLATTE', 'HON PAUL A GOSAR', 'HON TREY GOWDY',\n",
       "       'HON GWEN GRAHAM', 'HON KAY GRANGER', 'HON GARRET GRAVES',\n",
       "       'HON SAM GRAVES', 'HON TOM GRAVES', 'HON ALAN GRAYSON',\n",
       "       'HON GENE GREEN', 'HON H MORGAN GRIFFITH', 'HON GLENN GROTHMAN',\n",
       "       'HON FRANK C GUINTA', 'HON BRETT GUTHRIE', 'HON LUIS V GUTIERREZ',\n",
       "       'HON JANICE HAHN', 'HON RICHARD L HANNA', 'HON GREGG HARPER',\n",
       "       'HON ANDY HARRIS', 'HON VICKY HARTZLER', 'HON DENNY HECK',\n",
       "       'HON JOSEPH J HECK', 'HON JEB HENSARLING',\n",
       "       'HON JAIME HERRERA BEUTLER', 'HON JODY B HICE', 'HON JAMES A HIMES',\n",
       "       'HON GEORGE HOLDING', 'HON MICHAEL M HONDA', 'HON RICHARD HUDSON',\n",
       "       'HON TIM HUELSKAMP', 'HON JARED HUFFMAN', 'HON BILL HUIZENGA',\n",
       "       'HON ROBERT HURT', 'HON STEVE ISRAEL', 'HON SHEILA JACKSON LEE',\n",
       "       'HON BILL JOHNSON', 'HON HENRY C HANK JOHNSON JR',\n",
       "       'HON SAM JOHNSON', 'HON DAVID W JOLLY', 'HON WALTER B JONES',\n",
       "       'HON MARCY KAPTUR', 'HON WILLIAM R KEATING', 'HON MIKE KELLY',\n",
       "       'HON ROBIN L KELLY', 'HON TRENT KELLY', 'HON DANIEL T KILDEE',\n",
       "       'HON RON KIND', 'HON PETER T KING', 'HON STEVE KING',\n",
       "       'HON ANN KIRKPATRICK', 'HON JOHN KLINE', 'HON STEPHEN KNIGHT',\n",
       "       'HON ANN M KUSTER', 'HON DARIN LAHOOD', 'HON DOUG LAMALFA',\n",
       "       'HON DOUG LAMBORN', 'HON LEONARD LANCE', 'HON JAMES R LANGEVIN',\n",
       "       'HON RICK LARSEN', 'HON ROBERT E LATTA', 'HON BRENDA L LAWRENCE',\n",
       "       'HON BARBARA LEE', 'HON SANDER M LEVIN', 'HON JOHN LEWIS',\n",
       "       'HON TED LIEU', 'HON DANIEL LIPINSKI', 'HON DAVID LOEBSACK',\n",
       "       'HON ZOE LOFGREN', 'HON BARRY LOUDERMILK', 'HON MIA B LOVE',\n",
       "       'HON NITA N LOWEY', 'HON BLAINE LUETKEMEYER', 'HON BEN RAY LUJAN',\n",
       "       'HON STEPHEN F LYNCH', 'HON CAROLYN B MALONEY',\n",
       "       'HON SEAN PATRICK MALONEY', 'HON KENNY MARCHANT', 'HON TOM MARINO',\n",
       "       'HON THOMAS MASSIE', 'HON DORIS MATSUI', 'HON KEVIN MCCARTHY',\n",
       "       'HON MICHAEL T MCCAUL', 'HON TOM MCCLINTOCK', 'HON JIM MCDERMOTT',\n",
       "       'HON PATRICK T MCHENRY', 'HON DAVID B MCKINLEY',\n",
       "       'HON CATHY MCMORRIS RODGERS', 'HON MARK MEADOWS',\n",
       "       'HON PATRICK MEEHAN', 'HON GRACE MENG', 'HON LUKE MESSER',\n",
       "       'HON JEFF MILLER', 'HON JOHN R MOOLENAAR', 'HON GWEN MOORE',\n",
       "       'HON SETH MOULTON', 'HON MARKWAYNE MULLIN', 'HON PATRICK MURPHY',\n",
       "       'HON RICHARD R NEAL', 'HON RANDY NEUGEBAUER', 'HON DAN NEWHOUSE',\n",
       "       'HON KRISTI L NOEM', 'HON RICHARD M NOLAN', 'HON DONALD NORCROSS',\n",
       "       'HON ELEANOR HOLMES NORTON', 'HON RICHARD B NUGENT',\n",
       "       'HON PETE OLSON', 'HON ERIK PAULSEN', 'HON NANCY PELOSI',\n",
       "       'HON ED PERLMUTTER', 'HON SCOTT PERRY', 'HON SCOTT H PETERS',\n",
       "       'HON COLLIN C PETERSON', 'HON PEDRO R PIERLUISI',\n",
       "       'HON CHELLIE PINGREE', 'HON ROBERT PITTENGER',\n",
       "       'HON STACEY PLASKETT', 'HON MARK POCAN', 'HON TED POE',\n",
       "       'HON JARED POLIS', 'HON MIKE POMPEO', 'HON DAVID E PRICE',\n",
       "       'HON TOM PRICE', 'HON MIKE QUIGLEY', 'HON AMATA COLEMAN RADEWAGEN',\n",
       "       'HON TOM REED', 'HON DAVID G REICHERT', 'HON JAMES B RENACCI',\n",
       "       'HON TOM RICE', 'HON CEDRIC L RICHMOND', 'HON E SCOTT RIGELL',\n",
       "       'HON DAVID P ROE', 'HON HAROLD ROGERS', 'HON MIKE ROGERS',\n",
       "       'HON DANA ROHRABACHER', 'HON TODD ROKITA',\n",
       "       'HON ILEANA ROS LEHTINEN', 'HON DENNIS A ROSS', 'HON DAVID ROUZER',\n",
       "       'HON LUCILLE ROYBAL ALLARD', 'HON RAUL RUIZ', 'HON STEVE RUSSELL',\n",
       "       'HON PAUL D RYAN', 'HON GREGORIO SABLAN', 'HON LINDA T SANCHEZ',\n",
       "       'HON LORETTA SANCHEZ', 'HON JOHN P SARBANES', 'HON ADAM B SCHIFF',\n",
       "       'HON KURT SCHRADER', 'HON DAVID SCHWEIKERT', 'HON AUSTIN SCOTT',\n",
       "       'HON DAVID SCOTT', 'HON ROBERT C BOBBY SCOTT',\n",
       "       'HON F JAMES SENSENBRENNER JR', 'HON JOSE E SERRANO',\n",
       "       'HON TERRI A SEWELL', 'HON BILL SHUSTER', 'HON MICHAEL K SIMPSON',\n",
       "       'HON ALBIO SIRES', 'HON LOUISE SLAUGHTER',\n",
       "       'HON CHRISTOPHER H SMITH', 'HON LAMAR SMITH',\n",
       "       'HON ELISE M STEFANIK', 'HON STEVE STIVERS',\n",
       "       'HON MARLIN A STUTZMAN', 'HON ERIC SWALWELL', 'HON MARK TAKAI',\n",
       "       'HON MARK TAKANO', 'HON BENNIE G THOMPSON', 'HON PATRICK J TIBERI',\n",
       "       'HON PAUL D TONKO', 'HON NORMA J TORRES', 'HON NIKI TSONGAS',\n",
       "       'HON MICHAEL R TURNER', 'HON FRED UPTON', 'HON DAVID G VALADAO',\n",
       "       'HON CHRIS VAN HOLLEN', 'HON JUAN VARGAS', 'HON PETER J VISCLOSKY',\n",
       "       'HON ANN WAGNER', 'HON MARK WALKER', 'HON JACKIE WALORSKI',\n",
       "       'HON MIMI WALTERS', 'HON DEBBIE WASSERMAN SCHULTZ',\n",
       "       'HON MAXINE WATERS', 'HON BONNIE WATSON COLEMAN',\n",
       "       'HON BRAD R WENSTRUP', 'HON BRUCE WESTERMAN',\n",
       "       'HON LYNN A WESTMORELAND', 'HON FREDERICA S WILSON',\n",
       "       'HON JOE WILSON', 'HON STEVE WOMACK', 'HON ROB WOODALL',\n",
       "       'HON TED S YOHO', 'HON TODD C YOUNG', 'COMMITTEE ON BUDGET',\n",
       "       'COMMITTEE ON FINANCIAL SERVICE', 'COMM ON EDUCATION & WORKFORCE',\n",
       "       'COMMITTEE ON ENERGY & COMMERCE', 'COMM ON OVRSIGHT & GOVT REFORM',\n",
       "       'HOUSE ADMINISTRATION', 'COMMITTEE ON NATURAL RESOURCES',\n",
       "       'COMMITTEE ON FOREIGN AFFAIRS', 'TRANSPORTATION INFRASTRUCTURE',\n",
       "       'COMMITTEE ON RULES', 'COMM ON SCIENCE SPACE & TECH',\n",
       "       'COMMITTEE ON SMALL BUSINESS', \"VETERANS' AFFAIRS\",\n",
       "       'JOINT COMMMITTEE ON TAXATION', 'SUPPLIES AND MATERIALS',\n",
       "       'OFFICE OF THE MAJORITY LEADER', 'OFFICE OF THE MINORITY WHIP',\n",
       "       'REPUBLICAN CONFERENCE', 'CLERK OF THE HOUSE',\n",
       "       'OFFICE OF GENERAL COUNSEL', 'SERGEANT AT ARMS',\n",
       "       'OFFICE OF THE PARLIAMENTARIAN', 'COMPILATION OF PRECEDENTS',\n",
       "       'TECHNICAL ASSISTANTS', \"FORMER SPEAKER'S STAFF\",\n",
       "       'OFFICE OF INSPECTOR GENERAL', 'LAW REVISION COUNSEL',\n",
       "       'INTERPARLIAMENTARY AFFAIRS', 'CAO ADVANCED BUSINESS SOLUTION',\n",
       "       'EMD', 'TECHNOLOGY INFRASTRUCTURE', 'LGTCS & SUPP IMMEDIATE OFFICE',\n",
       "       'LIFE CYCLE REPLACEMENT', 'HOUSE RECORDING STUDIO',\n",
       "       'COMMITTEE RENOVATION PROJECT', 'HON 8TH DISTRICT OF OHIO',\n",
       "       'HON RALPH ABRAHAM', 'HON ALMA S ADAMS', 'HON JUSTIN A AMASH',\n",
       "       'HON BRAD ASHFORD', 'HON ANDY BARR', 'HON MIKE BISHOP',\n",
       "       'HON ROB BLUM', 'HON EARL BLUMENAUER', 'HON JOHN A BOEHNER',\n",
       "       'HON SUZANNE BONAMICI', 'HON MIKE BOST', 'HON DAVE BRAT',\n",
       "       'HON MO BROOKS', 'HON JULIA BROWNLEY', 'HON KEN BUCK',\n",
       "       'HON G K BUTTERFIELD', 'HON ANDRE CARSON', 'HON JOHN R CARTER',\n",
       "       'HON KATHY CASTOR', 'HON JOAQUIN CASTRO', 'HON STEVE CHABOT',\n",
       "       'HON YVETTE D CLARKE', 'HON JAMES E CLYBURN', 'HON CHRIS COLLINS',\n",
       "       'HON JOHN CONYERS JR', 'HON PAUL COOK', 'HON RYAN A COSTELLO',\n",
       "       'HON JOE COURTNEY', 'HON KEVIN CRAMER', 'HON DANNY K DAVIS',\n",
       "       'HON DIANA DEGETTE', 'HON JOHN K DELANEY', 'HON THEODORE E DEUTCH',\n",
       "       'HON DEBBIE DINGELL', 'HON JOHN J DUNCAN JR', 'HON RENEE L ELLMERS',\n",
       "       'HON CHAKA FATTAH', 'HON MICHAEL G FITZPATRICK',\n",
       "       'HON CHARLES J CHUCK FLEISCHMANN', 'HON JEFF FORTENBERRY',\n",
       "       'HON BOB GIBBS', 'HON LOUIE GOHMERT', 'HON AL GREEN',\n",
       "       'HON RAUL M GRIJALVA', 'HON CRESENT HARDY', 'HON ALCEE L HASTINGS',\n",
       "       'HON BRIAN HIGGINS', 'HON J FRENCH HILL', 'HON RUBEN HINOJOSA',\n",
       "       'HON STENY H HOYER', 'HON RANDY HULTGREN', 'HON DUNCAN HUNTER',\n",
       "       'HON WILL HURD', 'HON DARRELL E ISSA', 'HON HAKEEM S JEFFRIES',\n",
       "       'HON EVAN H JENKINS', 'HON LYNN JENKINS',\n",
       "       'HON EDDIE BERNICE JOHNSON', 'HON JIM JORDAN', 'HON DAVID P JOYCE',\n",
       "       'HON JOHN KATKO', 'HON JOSEPH P KENNEDY III', 'HON DEREK KILMER',\n",
       "       'HON ADAM KINZINGER', 'HON RAUL R LABRADOR', 'HON JOHN B LARSON',\n",
       "       'HON ALAN S LOWENTHAL', 'HON FRANK D LUCAS',\n",
       "       'HON MICHELLE LUJAN GRISHAM', 'HON CYNTHIA M LUMMIS',\n",
       "       'HON THOMAS MACARTHUR', 'HON JAMES P MCGOVERN',\n",
       "       'HON JERRY MCNERNEY', 'HON MARTHA MCSALLY', 'HON GREGORY W MEEKS',\n",
       "       'HON JOHN L MICA', 'HON ALEXANDER X MOONEY', 'HON MICK MULVANEY',\n",
       "       'HON TIM MURPHY', 'HON JERROLD NADLER', 'HON DEVIN NUNES',\n",
       "       'HON STEVEN M PALAZZO', 'HON FRANK PALLONE JR', 'HON GARY J PALMER',\n",
       "       'HON BILL PASCRELL JR', 'HON DONALD PAYNE JR', 'HON STEVAN PEARCE',\n",
       "       'HON JOSEPH R PITTS', 'HON BRUCE POLIQUIN', 'HON BILL POSEY',\n",
       "       'HON CHARLES B RANGEL', 'HON JOHN RATCLIFFE', 'HON REID J RIBBLE',\n",
       "       'HON KATHLEEN M RICE', 'HON MARTHA ROBY', 'HON PETER J ROSKAM',\n",
       "       'HON EDWARD R ROYCE', 'HON BOBBY L RUSH', 'HON TIMOTHY J RYAN',\n",
       "       'HON MATT SALMON', 'HON MARK SANFORD', 'HON STEVE SCALISE',\n",
       "       'HON JANICE D SCHAKOWSKY', 'HON PETE SESSIONS', 'HON BRAD SHERMAN',\n",
       "       'HON JOHN SHIMKUS', 'HON KYRSTEN SINEMA', 'HON JASON SMITH',\n",
       "       'HON JACKIE SPEIER', 'HON CHRIS STEWART', 'HON GLENN THOMPSON',\n",
       "       'HON MIKE THOMPSON', 'HON SCOTT R TIPTON', 'HON DINA TITUS',\n",
       "       'HON DAVID A TROTT', 'HON MARC A VEASEY', 'HON FILEMON VELA',\n",
       "       'HON NYDIA M VELAZQUEZ', 'HON GREG WALDEN', 'HON TIMOTHY J WALZ',\n",
       "       'HON RANDY K WEBER SR', 'HON DANIEL WEBSTER', 'HON PETER WELCH',\n",
       "       'HON ED WHITFIELD', 'HON ROGER WILLIAMS', 'HON ROBERT J WITTMAN',\n",
       "       'HON JOHN A YARMUTH', 'HON KEVIN YODER', 'HON DAVID YOUNG',\n",
       "       'HON DON YOUNG', 'OTHER ADMINISTRATION', 'HON LEE M ZELDIN',\n",
       "       'HON RYAN K ZINKE', 'COMMITTEE ON APPROPRIATIONS',\n",
       "       'ARMED SERVICES COMMITTEE', 'COMMITTEE ON BENGHAZI',\n",
       "       'COMMITTEE ON ETHICS', 'INTELLIGENCE', 'GOVERNMENT CONTRIBUTIONS',\n",
       "       'STATIONERY', 'NET EXP OF EQUIP', 'NET EXPENSES TELECOMMUNICATION',\n",
       "       'SERVICE MANAGEMENT', 'HOUSE CHILD CARE CENTER',\n",
       "       'HOUSE CHILD CARE GENERAL FUND', 'OFFICE OF ATTENDING PHYSICIAN',\n",
       "       'OFFICIAL MAIL', 'MISCELLANEOUS AUTOMOBILES', 'MISC RECEPTIONS',\n",
       "       'OFFICE OF CONGRESSIONAL ETHICS', 'BROADCAST SERVICES',\n",
       "       'NETWORK SERVICES OTHER', 'ADMIN AND OPS', 'PROJECT MANAGEMENT',\n",
       "       'COMMUNICATIONS', 'CAMPUS VOICE NETWORK ENHANCE',\n",
       "       'COMMUNICATIONS SERVICES', 'PROCESS & PROCEDURES', 'CDN ENHANCE',\n",
       "       'FORD DC ENHANCE', 'OFFICIAL EXPENSES OF MEMBERS',\n",
       "       'HON WARREN DAVIDSON', 'SUMMER CAMP', 'MISC GRATUITIES',\n",
       "       'BCDR EXERCISES ACTIVITY', 'MEMBER BRIEFING CENTER',\n",
       "       'HIR IMMEDIATE OFFICE', 'PAYROLL AND BENEFITS',\n",
       "       'EMPLOYEE COMPENSATION FUND', 'SUPPORT TEAM',\n",
       "       'COMMUNICATIONS EQUIPMENT', 'PAGING', 'HON JAMES COMER',\n",
       "       'HON DWIGHT EVANS', 'HON COLLEEN W HANABUSA', 'HON ROBERT C SCOTT',\n",
       "       'GENERAL ADMIN SPEC & SELECT', 'CAO IMMEDIATE OFFICE',\n",
       "       'TECHNOLOGY SUPPORT', 'FURNISHINGS', 'NEW MEMBER ORIENTATION',\n",
       "       'HON ROD BLUM', 'HON MATT GAETZ', 'HON MIKE GALLAGHER',\n",
       "       'HON THOMAS A GARRETT JR', 'HON JENNIFFER GONZALEZ COLON',\n",
       "       'HON PRAMILA JAYAPAL', 'HON AL LAWSON JR', 'HON JASON LEWIS',\n",
       "       'HON BRIAN J MAST', 'HON BETO O ROURKE', 'HON DONALD M PAYNE JR',\n",
       "       'HON LLOYD SMUCKER', 'HON NANETTE DIAZ BARRAGAN', 'HON ANDY BIGGS',\n",
       "       'HON A DREW FERGUSON IV', 'HON LISA BLUNT ROCHESTER',\n",
       "       'HON RON ESTES', 'HON JACKY ROSEN', 'HON DARREN SOTO'], dtype=object)"
      ]
     },
     "execution_count": 41,
     "metadata": {},
     "output_type": "execute_result"
    }
   ],
   "source": [
    "data_2016[\"OFFICE_\"].unique()"
   ]
  },
  {
   "cell_type": "code",
   "execution_count": 42,
   "metadata": {},
   "outputs": [
    {
     "data": {
      "text/plain": [
       "0.068495704125967449"
      ]
     },
     "execution_count": 42,
     "metadata": {},
     "output_type": "execute_result"
    }
   ],
   "source": [
    "offices = data_2016.groupby('OFFICE_')['AMOUNT_'].sum()\n",
    "largest_office = offices.idxmax()\n",
    "\n",
    "mask = data_2016[\"OFFICE_\"] == largest_office\n",
    "purposes = data_2016[mask].groupby('PURPOSE')['AMOUNT_'].sum()\n",
    "purposes.max()/data_2016['AMOUNT_'].sum()"
   ]
  },
  {
   "cell_type": "markdown",
   "metadata": {},
   "source": [
    "### Highest average staff salary"
   ]
  },
  {
   "cell_type": "code",
   "execution_count": 43,
   "metadata": {
    "collapsed": true
   },
   "outputs": [],
   "source": [
    "representatives = []\n",
    "for item in series_csv: \n",
    "    mask = item['OFFICE_'].apply(lambda x: x[:4] == 'HON ')\n",
    "    names = item[mask]['OFFICE_'].unique()\n",
    "    representatives.append(names)\n",
    "\n",
    "representatives = pd.Series(np.concatenate(representatives)).unique()"
   ]
  },
  {
   "cell_type": "code",
   "execution_count": 44,
   "metadata": {},
   "outputs": [
    {
     "data": {
      "text/plain": [
       "array(['HON NEIL ABERCROMBIE', 'HON GARY L ACKERMAN',\n",
       "       'HON ROBERT B ADERHOLT', 'HON JOHN H ADLER', 'HON W TODD AKIN',\n",
       "       'HON RODNEY ALEXANDER', 'HON THOMAS H ALLEN', 'HON JASON ALTMIRE',\n",
       "       'HON ROBERT ANDREWS', 'HON MICHAEL A ARCURI', 'HON STEVE AUSTRIA',\n",
       "       'HON JOE BACA', 'HON MICHELE BACHMANN', 'HON SPENCER BACHUS',\n",
       "       'HON BRIAN BAIRD', 'HON TAMMY BALDWIN', 'HON J GRESHAM BARRETT',\n",
       "       'HON JOHN BARROW', 'HON ROSCOE G BARTLETT', 'HON JOE BARTON',\n",
       "       'HON MELISSA L BEAN', 'HON XAVIER BECERRA', 'HON SHELLEY BERKLEY',\n",
       "       'HON HOWARD L BERMAN', 'HON MARION BERRY', 'HON JUDY BIGGERT',\n",
       "       'HON BRIAN BILBRAY', 'HON GUS M BILIRAKIS', 'HON ROB BISHOP',\n",
       "       'HON SANFORD D BISHOP JR', 'HON TIMOTHY H BISHOP',\n",
       "       'HON MARSHA BLACKBURN', 'HON EARL BLUMENAUER', 'HON ROY BLUNT',\n",
       "       'HON JOHN A BOCCIERI', 'HON JOHN A BOEHNER', 'HON JO BONNER',\n",
       "       'HON MARY BONO MACK', 'HON JOHN BOOZMAN', 'HON MADELINE Z BORDALLO',\n",
       "       'HON DAN BOREN', 'HON LEONARD L BOSWELL', 'HON RICK BOUCHER',\n",
       "       'HON CHARLES W BOUSTANY JR', 'HON ALLEN BOYD', 'HON KEVIN BRADY',\n",
       "       'HON ROBERT A BRADY', 'HON BRUCE L BRALEY', 'HON BOBBY BRIGHT',\n",
       "       'HON PAUL BROUN', 'HON GINNY BROWN WAITE', 'HON CORRINE BROWN',\n",
       "       'HON HENRY E BROWN JR', 'HON VERN BUCHANAN',\n",
       "       'HON MICHAEL C BURGESS', 'HON DAN BURTON', 'HON G K BUTTERFIELD',\n",
       "       'HON STEVE BUYER', 'HON KEN CALVERT', 'HON DAVE CAMP',\n",
       "       'HON JOHN CAMPBELL', 'HON CHRIS CANNON', 'HON ERIC CANTOR',\n",
       "       'HON ANH JOSEPH CAO', 'HON SHELLEY MOORE CAPITO', 'HON LOIS CAPPS',\n",
       "       'HON MICHAEL E CAPUANO', 'HON DENNIS A CARDOZA',\n",
       "       'HON RUSS CARNAHAN', 'HON CHRISTOPHER P CARNEY', 'HON ANDRE CARSON',\n",
       "       'HON JOHN R CARTER', 'HON BILL CASSIDY', 'HON MICHAEL N CASTLE',\n",
       "       'HON KATHY CASTOR', 'HON DONALD J CAZAYOUX JR',\n",
       "       'HON STEVEN J CHABOT', 'HON JASON CHAFFETZ', 'HON BEN CHANDLER',\n",
       "       'HON TRAVIS W CHILDERS', 'HON DONNA MC CHRISTENSEN', 'HON JUDY CHU',\n",
       "       'HON YVETTE D CLARKE', 'HON WILLIAM LACY CLAY',\n",
       "       'HON EMANUEL CLEAVER', 'HON JAMES E CLYBURN', 'HON HOWARD COBLE',\n",
       "       'HON MIKE COFFMAN', 'HON STEVE COHEN', 'HON TOM COLE',\n",
       "       'HON K MICHAEL CONAWAY', 'HON GERALD E GERRY CONNOLLY',\n",
       "       'HON JOHN CONYERS JR', 'HON JIM COOPER', 'HON JIM COSTA',\n",
       "       'HON JERRY F COSTELLO', 'HON JOE COURTNEY', 'HON BUD CRAMER',\n",
       "       'HON ANDER CRENSHAW', 'HON JOSEPH CROWLEY', 'HON BARBARA CUBIN',\n",
       "       'HON HENRY CUELLAR', 'HON JOHN ABNEY CULBERSON',\n",
       "       'HON ELIJAH CUMMINGS', 'HON KATHLEEN A DAHLKEMPER',\n",
       "       'HON ARTUR DAVIS', 'HON DANNY K DAVIS', 'HON LINCOLN DAVIS',\n",
       "       'HON SUSAN A DAVIS', 'HON GEOFF DAVIS', 'HON NATHAN DEAL',\n",
       "       'HON PETER A DEFAZIO', 'HON DIANA DEGETTE',\n",
       "       'HON WILLIAM D DELAHUNT', 'HON ROSA L DELAURO',\n",
       "       'HON CHARLES W DENT', 'HON LINCOLN DIAZ BALART',\n",
       "       'HON MARIO DIAZ BALART', 'HON NORMAN D DICKS', 'HON JOHN D DINGELL',\n",
       "       'HON LLOYD DOGGETT', 'HON JOE DONNELLY', 'HON MICHAEL F DOYLE',\n",
       "       'HON DAVID DREIER', 'HON STEVE DRIEHAUS', 'HON JOHN J DUNCAN JR',\n",
       "       'HON DONNA F EDWARDS', 'HON CHET EDWARDS', 'HON VERNON J EHLERS',\n",
       "       'HON KEITH ELLISON', 'HON BRAD ELLSWORTH', 'HON RAHM EMANUEL',\n",
       "       'HON JO ANN EMERSON', 'HON ELIOT L ENGEL', 'HON ANNA G ESHOO',\n",
       "       'HON BOB ETHERIDGE', 'HON ENI F H FALEOMAVAEGA', 'HON MARY FALLIN',\n",
       "       'HON SAM FARR', 'HON CHAKA FATTAH', 'HON TOM FEENEY',\n",
       "       'HON BOB FILNER', 'HON JEFF FLAKE', 'HON JOHN FLEMING',\n",
       "       'HON J RANDY FORBES', 'HON JEFF FORTENBERRY', 'HON LUIS G FORTUNO',\n",
       "       'HON BILL FOSTER', 'HON VIRGINIA FOXX', 'HON BARNEY FRANK',\n",
       "       'HON TRENT FRANKS', 'HON RODNEY P FRELINGHUYSEN',\n",
       "       'HON MARCIA L FUDGE', 'HON ELTON GALLEGLY', 'HON SCOTT GARRETT',\n",
       "       'HON JIM GERLACH', 'HON GABRIELLE GIFFORDS',\n",
       "       'HON WAYNE T GILCHREST', 'HON KIRSTEN E GILLIBRAND',\n",
       "       'HON PHIL GINGREY', 'HON LOUIE GOHMERT', 'HON CHARLES A GONZALEZ',\n",
       "       'HON VIRGIL H GOODE JR', 'HON BOB GOODLATTE', 'HON BART GORDON',\n",
       "       'HON KAY GRANGER', 'HON SAM GRAVES', 'HON ALAN GRAYSON',\n",
       "       'HON GENE GREEN', 'HON AL GREEN', 'HON PARKER GRIFFITH',\n",
       "       'HON RAUL M GRIJALVA', 'HON BRETT GUTHRIE', 'HON LUIS V GUTIERREZ',\n",
       "       'HON JOHN J HALL', 'HON RALPH M HALL', 'HON DEBORAH L HALVORSON',\n",
       "       'HON PHIL HARE', 'HON JANE HARMAN', 'HON GREGG HARPER',\n",
       "       'HON ALCEE L HASTINGS', 'HON RICHARD DOC HASTINGS',\n",
       "       'HON ROBIN HAYES', 'HON MARTIN HEINRICH', 'HON DEAN HELLER',\n",
       "       'HON JEB HENSARLING', 'HON WALLY HERGER', 'HON STEPHANIE HERSETH',\n",
       "       'HON BRIAN HIGGINS', 'HON BARON P HILL', 'HON JAMES A HIMES',\n",
       "       'HON MAURICE D HINCHEY', 'HON RUBEN HINOJOSA', 'HON MAZIE K HIRONO',\n",
       "       'HON PAUL W HODES', 'HON PETER HOEKSTRA', 'HON TIM HOLDEN',\n",
       "       'HON RUSH D HOLT', 'HON MICHAEL M HONDA', 'HON STENY H HOYER',\n",
       "       'HON DUNCAN HUNTER', 'HON BOB INGLIS', 'HON JAY INSLEE',\n",
       "       'HON STEVE ISRAEL', 'HON DARRELL E ISSA', 'HON SHEILA JACKSON LEE',\n",
       "       'HON JESSE L JACKSON JR', 'HON LYNN JENKINS', 'HON BOBBY JINDAL',\n",
       "       'HON EDDIE BERNICE JOHNSON', 'HON HENRY C HANK JOHNSON JR',\n",
       "       'HON SAM JOHNSON', 'HON TIMOTHY V JOHNSON',\n",
       "       'HON STEPHANIE TUBBS JONES', 'HON WALTER B JONES', 'HON JIM JORDAN',\n",
       "       'HON STEVE KAGEN', 'HON PAUL E KANJORSKI', 'HON MARCY KAPTUR',\n",
       "       'HON PATRICK J KENNEDY', 'HON DALE E KILDEE',\n",
       "       'HON CAROLYN C KILPATRICK', 'HON MARY JO KILROY', 'HON RON KIND',\n",
       "       'HON PETER T KING', 'HON STEVE KING', 'HON JACK KINGSTON',\n",
       "       'HON MARK STEVEN KIRK', 'HON ANN KIRKPATRICK', 'HON LARRY KISSELL',\n",
       "       'HON RON KLEIN', 'HON JOHN KLINE', 'HON JOE KNOLLENBERG',\n",
       "       'HON SUZANNE M KOSMAS', 'HON FRANK KRAVOTIL JR',\n",
       "       'HON DENNIS J KUCINICH', 'HON RAY LAHOOD', 'HON DOUG LAMBORN',\n",
       "       'HON NICK LAMPSON', 'HON LEONARD LANCE', 'HON JAMES R LANGEVIN',\n",
       "       'HON TOM LANTOS', 'HON RICK LARSEN', 'HON JOHN B LARSON',\n",
       "       'HON TOM LATHAM', 'HON STEVE C LATOURETTE', 'HON ROBERT E LATTA',\n",
       "       'HON BARBARA LEE', 'HON CHRISTOPHER J LEE', 'HON SANDER M LEVIN',\n",
       "       'HON JERRY LEWIS', 'HON JOHN LEWIS', 'HON RON LEWIS',\n",
       "       'HON JOHN LINDER', 'HON DANIEL LIPINSKI', 'HON FRANK A LOBIONDO',\n",
       "       'HON DAVID LOEBSACK', 'HON ZOE LOFGREN', 'HON NITA M LOWEY',\n",
       "       'HON FRANK D LUCAS', 'HON BLAINE LUETKEMEYER', 'HON BEN RAY LUJAN',\n",
       "       'HON CYNTHIA M LUMMIS', 'HON DANIEL E LUNGREN',\n",
       "       'HON STEPHEN F LYNCH', 'HON CONNIE MACK', 'HON DANIEL B MAFFEI',\n",
       "       'HON TIM MAHONEY', 'HON CAROLYN B MALONEY', 'HON DONALD A MANZULLO',\n",
       "       'HON KENNY MARCHANT', 'HON BETSY MARKEY', 'HON EDWARD J MARKEY',\n",
       "       'HON JIM MARSHALL', 'HON ERIC J J MASSA', 'HON JIM MATHESON',\n",
       "       'HON DORIS MATSUI', 'HON CAROLYN MCCARTHY', 'HON KEVIN MCCARTHY',\n",
       "       'HON MICHAEL T MCCAUL', 'HON TOM MCCLINTOCK', 'HON BETTY MCCOLLUM',\n",
       "       'HON THADDEUS G MCCOTTER', 'HON JIM MCDERMOTT',\n",
       "       'HON JAMES P MCGOVERN', 'HON PATRICK T MCHENRY',\n",
       "       'HON JOHN M MCHUGH', 'HON MIKE MCINTYRE', 'HON HOWARD BUCK MCKEON',\n",
       "       'HON MICHAEL E MCMAHON', 'HON CATHY MCMORRIS RODGERS',\n",
       "       'HON JERRY MCNERNEY', 'HON KENDRICK B MEEK', 'HON GREGORY W MEEKS',\n",
       "       'HON CHARLIE MELANCON', 'HON JOHN L MICA', 'HON MICHAEL H MICHAUD',\n",
       "       'HON BRAD MILLER', 'HON CANDICE S MILLER', 'HON GARY G MILLER',\n",
       "       'HON GEORGE MILLER', 'HON JEFF MILLER', 'HON WALTER MINNICK',\n",
       "       'HON HARRY E MITCHELL', 'HON ALAN B MOLLOHAN', 'HON DENNIS MOORE',\n",
       "       'HON GWEN MOORE', 'HON JAMES P MORAN JR', 'HON JERRY MORAN',\n",
       "       'HON CHRISTOPHER S MURPHY', 'HON PATRICK J MURPHY',\n",
       "       'HON SCOTT MURPHY', 'HON TIM MURPHY', 'HON JOHN P MURTHA',\n",
       "       'HON MARILYN N MUSGRAVE', 'HON SUE MYRICK', 'HON JERROLD NADLER',\n",
       "       'HON GRACE F NAPOLITANO', 'HON RICHARD E NEAL',\n",
       "       'HON RANDY NEUGEBAUER', 'HON ELEANOR HOLMES NORTON',\n",
       "       'HON DEVIN NUNES', 'HON GLENN C NYE III', 'HON JAMES L OBERSTAR',\n",
       "       'HON DAVID R OBEY', 'HON PETE OLSON', 'HON JOHN OLVER',\n",
       "       'HON SOLOMON P ORTIZ', 'HON FRANK PALLONE JR',\n",
       "       'HON BILL PASCRELL JR', 'HON ED PASTOR', 'HON RON PAUL',\n",
       "       'HON ERIK PAULSEN', 'HON DONALD M PAYNE', 'HON NANCY PELOSI',\n",
       "       'HON MIKE PENCE', 'HON ED PERLMUTTER', 'HON THOMAS S P PERRIELLO',\n",
       "       'HON GARY C PETERS', 'HON COLLIN C PETERSON', 'HON THOMAS PETRI',\n",
       "       'HON CHARLES CHIP PICKERING', 'HON PEDRO R PIERLUISI',\n",
       "       'HON CHELLIE PINGREE', 'HON JOSEPH R PITTS',\n",
       "       'HON TODD RUSSELL PLATTS', 'HON TED POE', 'HON JARED POLIS',\n",
       "       'HON EARL POMEROY', 'HON JON C PORTER', 'HON BILL POSEY',\n",
       "       'HON DAVID E PRICE', 'HON TOM PRICE', 'HON ADAM H PUTNAM',\n",
       "       'HON MIKE QUIGLEY', 'HON GEORGE P RADANOVICH',\n",
       "       'HON NICK J RAHALL II', 'HON JIM RAMSTAD', 'HON CHARLES B RANGEL',\n",
       "       'HON RALPH REGULA', 'HON DENNIS R REHBERG', 'HON DAVID G REICHERT',\n",
       "       'HON RICK RENZI', 'HON SILVESTRE REYES', 'HON LAURA RICHARDSON',\n",
       "       'HON CIRO RODRIGUEZ', 'HON DAVID P ROE', 'HON HAROLD ROGERS',\n",
       "       'HON MIKE ROGERS', 'HON DANA ROHRABACHER', 'HON THOMAS J ROONEY',\n",
       "       'HON ILEANA ROS LEHTINEN', 'HON PETER J ROSKAM', 'HON MIKE ROSS',\n",
       "       'HON STEVEN R ROTHMAN', 'HON LUCILLE ROYBAL ALLARD',\n",
       "       'HON EDWARD R ROYCE', 'HON C A DUTCH RUPPERSBERGER',\n",
       "       'HON BOBBY L RUSH', 'HON PAUL RYAN', 'HON TIMOTHY J RYAN',\n",
       "       'HON GREGORIO SABLAN', 'HON JOHN T SALAZAR', 'HON LINDA T SANCHEZ',\n",
       "       'HON LORETTA SANCHEZ', 'HON JOHN P SARBANES', 'HON STEVE SCALISE',\n",
       "       'HON JANICE D SCHAKOWSKY', 'HON MARK H SCHAUER',\n",
       "       'HON ADAM B SCHIFF', 'HON JEAN SCHMIDT', 'HON AARON SCHOCK',\n",
       "       'HON KURT SCHRADER', 'HON ALLYSON Y SCHWARTZ', 'HON DAVID SCOTT',\n",
       "       'HON ROBERT C SCOTT', 'HON F JAMES SENSENBRENNER JR',\n",
       "       'HON JOSE E SERRANO', 'HON PETE SESSIONS', 'HON JOE SESTAK',\n",
       "       'HON JOHN SHADEGG', 'HON CHRISTOPHER SHAYS',\n",
       "       'HON CAROL SHEA PORTER', 'HON BRAD SHERMAN', 'HON JOHN SHIMKUS',\n",
       "       'HON HEATH SHULER', 'HON BILL SHUSTER', 'HON MICHAEL K SIMPSON',\n",
       "       'HON ALBIO SIRES', 'HON IKE SKELTON',\n",
       "       'HON LOUISE MCINTOSH SLAUGHTER', 'HON ADAM SMITH',\n",
       "       'HON ADRIAN SMITH', 'HON CHRISTOPHER H SMITH', 'HON LAMAR SMITH',\n",
       "       'HON VIC SNYDER', 'HON HILDA L SOLIS', 'HON MARK E SOUDER',\n",
       "       'HON ZACHARY T SPACE', 'HON JACKIE SPEIER', 'HON JOHN M SPRATT JR',\n",
       "       'HON FORTNEY PETE STARK', 'HON CLIFF STEARNS', 'HON BART STUPAK',\n",
       "       'HON JOHN SULLIVAN', 'HON BETTY SUTTON', 'HON THOMAS G TANCREDO',\n",
       "       'HON JOHN TANNER', 'HON ELLEN O TAUSCHER', 'HON GENE TAYLOR',\n",
       "       'HON HARRY TEAGUE', 'HON LEE TERRY', 'HON BENNIE G THOMPSON',\n",
       "       'HON GLENN THOMPSON', 'HON MIKE THOMPSON', 'HON MAC THORNBERRY',\n",
       "       'HON TODD TIAHRT', 'HON PATRICK J TIBERI', 'HON JOHN F TIERNEY',\n",
       "       'HON DINA TITUS', 'HON PAUL D TONKO', 'HON EDOLPHUS TOWNS',\n",
       "       'HON NIKI TSONGAS', 'HON MICHAEL R TURNER', 'HON MARK UDALL',\n",
       "       'HON TOM UDALL', 'HON FRED UPTON', 'HON CHRIS VAN HOLLEN',\n",
       "       'HON NYDIA M VELAZQUEZ', 'HON PETER J VISCLOSKY', 'HON GREG WALDEN',\n",
       "       'HON JAMES T WALSH', 'HON TIMOTHY J WALZ', 'HON ZACH WAMP',\n",
       "       'HON DEBBIE WASSERMAN SCHULTZ', 'HON MAXINE WATERS',\n",
       "       'HON DIANE E WATSON', 'HON MELVIN L WATT', 'HON HENRY A WAXMAN',\n",
       "       'HON ANTHONY D WEINER', 'HON PETER WELCH', 'HON DAVE WELDON',\n",
       "       'HON LYNN A WESTMORELAND', 'HON ROBERT WEXLER', 'HON ED WHITFIELD',\n",
       "       'HON CHARLES A WILSON', 'HON HEATHER WILSON', 'HON JOE WILSON',\n",
       "       'HON ROBERT J WITTMAN', 'HON FRANK R WOLF', 'HON LYNN C WOOLSEY',\n",
       "       'HON DAVID WU', 'HON JOHN A YARMUTH', 'HON C W BILL YOUNG',\n",
       "       'HON DON YOUNG', 'HON FRANK KRATOVIL JR', 'HON JOHN GARAMENDI',\n",
       "       'HON WILLIAM L OWENS', 'HON THOMAS M REYNOLDS',\n",
       "       'HON DAVID L HOBSON', 'HON NANCY E BOYDA', 'HON THELMA D DRAKE',\n",
       "       'HON JOHN E PETERSON', 'HON DARLENE HOOLEY', 'HON CHARLES K DJOU',\n",
       "       'HON MARK S CRITZ', 'HON THEODORE E DEUTCH', 'HON TOM GRAVES',\n",
       "       'HON BILL SALI', 'HON ROBERT E ANDREWS', 'HON HOWARD BERMAN',\n",
       "       'HON BRIAN P BILBRAY', 'HON SANFORD BISHOP', 'HON VERN G BUCHANAN',\n",
       "       'HON STEVE CHABOT', 'HON DONNA EDWARDS', 'HON MIKE FERGUSON',\n",
       "       'HON MARCIA FUDGE', 'HON STEVEN C LATOURETTE',\n",
       "       'HON HOWARD P BUCK MCKEON', 'HON JAMES P MORAN', 'HON JOHN W OLVER',\n",
       "       'HON THOMAS E PETRI', 'HON TOM REED', 'HON JOHN B SHADEGG',\n",
       "       'HON MARLIN A STUTZMAN', 'HON JOHN S TANNER', 'HON SANDY ADAMS',\n",
       "       'HON JUSTIN A AMASH', 'HON LOU BARLETTA', 'HON CHARLES F BASS',\n",
       "       'HON KAREN BASS', 'HON DAN BENISHEK', 'HON RICK BERG',\n",
       "       'HON DIANE BLACK', 'HON MADELEINE Z BORDALLO', 'HON MO BROOKS',\n",
       "       'HON PAUL C BROUN', 'HON LARRY BUCSHON', 'HON ANN MARIE BUERKLE',\n",
       "       'HON FRANCISCO QUICO CANSECO', 'HON JOHN C CARNEY JR',\n",
       "       'HON DAVID N CICILLINE', 'HON HANSEN CLARKE', 'HON CHIP CRAVAACK',\n",
       "       'HON ERIC A RICK CRAWFORD', 'HON ELIJAH E CUMMINGS',\n",
       "       'HON JEFF DENHAM', 'HON SCOTT DESJARLAIS', 'HON ROBERT J DOLD',\n",
       "       'HON SEAN P DUFFY', 'HON JEFF DUNCAN', 'HON RENEE L ELLMERS',\n",
       "       'HON BLAKE FARENTHOLD', 'HON STEPHEN LEE FINCHER',\n",
       "       'HON MICHAEL G FITZPATRICK', 'HON CHARLES J CHUCK FLEISCHMANN',\n",
       "       'HON BILL FLORES', 'HON CORY GARDNER', 'HON BOB GIBBS',\n",
       "       'HON CHRISTOPHER P GIBSON', 'HON PAUL A GOSAR', 'HON TREY GOWDY',\n",
       "       'HON TIM GRIFFIN', 'HON H MORGAN GRIFFITH', 'HON MICHAEL G GRIMM',\n",
       "       'HON FRANK C GUINTA', 'HON COLLEEN W HANABUSA',\n",
       "       'HON RICHARD L HANNA', 'HON ANDY HARRIS', 'HON VICKY HARTZLER',\n",
       "       'HON NAN A S HAYWORTH', 'HON JOSEPH J HECK',\n",
       "       'HON JAIME HERRERA BEUTLER', 'HON TIM HUELSKAMP',\n",
       "       'HON BILL HUIZENGA', 'HON RANDY HULTGREN', 'HON ROBERT HURT',\n",
       "       'HON BILL JOHNSON', 'HON WILLIAM R KEATING', 'HON MIKE KELLY',\n",
       "       'HON ADAM KINZINGER', 'HON RAUL R LABRADOR', 'HON JEFFREY M LANDRY',\n",
       "       'HON JAMES LANKFORD', 'HON CHRISTOPHER JOHN LEE', 'HON BILLY LONG',\n",
       "       'HON TOM MARINO', 'HON DORIS O MATSUI', 'HON DAVID B MCKINLEY',\n",
       "       'HON PATRICK MEEHAN', 'HON WALT MINNICK', 'HON MICK MULVANEY',\n",
       "       'HON SUE WILKINS MYRICK', 'HON KRISTI L NOEM',\n",
       "       'HON RICHARD B NUGENT', 'HON ALAN NUNNELEE', 'HON STEVEN M PALAZZO',\n",
       "       'HON STEVAN PEARCE', 'HON MIKE POMPEO', 'HON BENJAMIN QUAYLE',\n",
       "       'HON JAMES B RENACCI', 'HON REID J RIBBLE', 'HON CEDRIC L RICHMOND',\n",
       "       'HON E SCOTT RIGELL', 'HON DAVID RIVERA', 'HON MARTHA ROBY',\n",
       "       'HON CIRO D RODRIGUEZ', 'HON TODD ROKITA', 'HON DENNIS A ROSS',\n",
       "       'HON JON RUNYAN', 'HON TIM RYAN', 'HON ROBERT T SCHILLING',\n",
       "       'HON DAVID SCHWEIKERT', 'HON AUSTIN SCOTT',\n",
       "       'HON ROBERT C BOBBY SCOTT', 'HON TIM SCOTT', 'HON TERRI A SEWELL',\n",
       "       'HON STEVE SOUTHERLAND II', 'HON STEVE STIVERS',\n",
       "       'HON SCOTT R TIPTON', 'HON PAUL TONKO', 'HON TIM WALBERG',\n",
       "       'HON JOE WALSH', 'HON DANIEL WEBSTER', 'HON ALLEN B WEST',\n",
       "       'HON FREDERICA S WILSON', 'HON STEVE WOMACK', 'HON ROB WOODALL',\n",
       "       'HON KEVIN YODER', 'HON TODD C YOUNG', 'HON KATHLEEN C HOCHUL',\n",
       "       'HON MARK E AMODEI', 'HON JANICE HAHN', 'HON ROBERT L TURNER',\n",
       "       'HON SUZANNE BONAMICI', 'HON RON BARBER', 'HON DAVID ALAN CURSON',\n",
       "       'HON SUZAN K DELBENE', 'HON RUSH HOLT', 'HON THOMAS MASSIE',\n",
       "       'HON DONALD PAYNE JR', 'HON MIKE J ROGERS', 'HON GARLAND ANDY BARR',\n",
       "       'HON JOYCE BEATTY', 'HON XAVIER BECARRA', 'HON KERRY L BENTIVOLIO',\n",
       "       'HON AMI BERA', 'HON JIM BRIDENSTINE', 'HON SUSAN W BROOKS',\n",
       "       'HON JULIA BROWNLEY', 'HON CHERI BUSTOS', 'HON TONY CARDENAS',\n",
       "       'HON MATTHEW A CARTWRIGHT', 'HON JOAQUIN CASTRO',\n",
       "       'HON CHRIS COLLINS', 'HON DOUG COLLINS', 'HON PAUL COOK',\n",
       "       'HON TOM COTTON', 'HON KEVIN CRAMER', 'HON STEVE DAINES',\n",
       "       'HON RODNEY DAVIS', 'HON JOHN K DELANEY', 'HON RON DESANTIS',\n",
       "       'HON THEODORE DEUTCH', 'HON TAMMY DUCKWORTH',\n",
       "       'HON WILLIAM L ENYART', 'HON ELIZABETH H ESTY', 'HON LOIS FRANKEL',\n",
       "       'HON TULSI GABBARD', 'HON PETE P GALLEGO', 'HON JOE GARCIA',\n",
       "       'HON DENNY HECK', 'HON GEORGE HOLDING', 'HON STEVEN A HORSFORD',\n",
       "       'HON RICHARD HUDSON', 'HON JARED HUFFMAN', 'HON HAKEEM S JEFFRIES',\n",
       "       'HON DAVID P JOYCE', 'HON JOSEPH P KENNEDY III',\n",
       "       'HON DANIEL T KILDEE', 'HON DEREK KILMER', 'HON ANN M KUSTER',\n",
       "       'HON DOUG LAMALFA', 'HON ALAN S LOWENTHAL', 'HON NITA N LOWEY',\n",
       "       'HON MICHELLE LUJAN GRISHAM', 'HON SEAN PATRICK MALONEY',\n",
       "       'HON GLORIA NEGRETE MCLEOD', 'HON MARK MEADOWS', 'HON GRACE MENG',\n",
       "       'HON LUKE MESSER', 'HON MARKWAYNE MULLIN', 'HON PATRICK MURPHY',\n",
       "       'HON RICHARD R NEAL', 'HON RICHARD M NOLAN', 'HON BETO OROURKE',\n",
       "       'HON SCOTT PERRY', 'HON SCOTT H PETERS', 'HON ROBERT PITTENGER',\n",
       "       'HON MARK POCAN', 'HON TREY RADEL', 'HON TOM RICE',\n",
       "       'HON KEITH J ROTHFUS', 'HON RAUL RUIZ', 'HON MATT SALMON',\n",
       "       'HON BRADLEY S SCHNEIDER', 'HON KYRSTEN SINEMA',\n",
       "       'HON LOUISE SLAUGHTER', 'HON CHRIS STEWART', 'HON STEVE STOCKMAN',\n",
       "       'HON ERIC SWALWELL', 'HON MARK TAKANO', 'HON DAVID G VALADAO',\n",
       "       'HON JUAN VARGAS', 'HON MARC A VEASEY', 'HON FILEMON VELA',\n",
       "       'HON ANN WAGNER', 'HON JACKIE WALORSKI', 'HON RANDY K WEBER SR',\n",
       "       'HON BRAD R WENSTRUP', 'HON ROGER WILLIAMS', 'HON TED S YOHO',\n",
       "       'HON ANDY BARR', 'HON ROBIN L KELLY', 'HON MARK SANFORD',\n",
       "       'HON JASON T SMITH', 'HON BRADLEY BYRNE', 'HON KATHERINE M CLARK',\n",
       "       'HON VANCE M MCALLISTER', 'HON DAVID W JOLLY', 'HON CURT CLAWSON',\n",
       "       'HON ALMA S ADAMS', 'HON DAVE BRAT', 'HON DONALD NORCROSS',\n",
       "       'HON JASON SMITH', 'HON RALPH ABRAHAM', 'HON PETE AGUILAR',\n",
       "       'HON RICK W ALLEN', 'HON BRAD ASHFORD', 'HON BRIAN BABIN',\n",
       "       'HON DONALD S BEYER JR', 'HON MIKE BISHOP', 'HON ROB BLUM',\n",
       "       'HON MIKE BOST', 'HON BRENDAN F BOYLE', 'HON KEN BUCK',\n",
       "       'HON EARL L BUDDY CARTER', 'HON BARBARA COMSTOCK',\n",
       "       'HON RYAN A COSTELLO', 'HON CARLOS CURBELO', 'HON MARK DESAULNIER',\n",
       "       'HON DEBBIE DINGELL', 'HON TOM EMMER', 'HON RUBEN GALLEGO',\n",
       "       'HON GWEN GRAHAM', 'HON GARRET GRAVES', 'HON GLENN GROTHMAN',\n",
       "       'HON CRESENT HARDY', 'HON JODY B HICE', 'HON J FRENCH HILL',\n",
       "       'HON WILL HURD', 'HON EVAN H JENKINS', 'HON JOHN KATKO',\n",
       "       'HON STEPHEN KNIGHT', 'HON BRENDA L LAWRENCE', 'HON TED LIEU',\n",
       "       'HON BARRY LOUDERMILK', 'HON MIA B LOVE', 'HON THOMAS MACARTHUR',\n",
       "       'HON MARTHA MCSALLY', 'HON JOHN R MOOLENAAR',\n",
       "       'HON ALEXANDER X MOONEY', 'HON SETH MOULTON', 'HON DAN NEWHOUSE',\n",
       "       'HON GARY J PALMER', 'HON STACEY PLASKETT', 'HON BRUCE POLIQUIN',\n",
       "       'HON AMATA COLEMAN RADEWAGEN', 'HON NICK J II RAHALL',\n",
       "       'HON JOHN RATCLIFFE', 'HON KATHLEEN M RICE', 'HON DAVID ROUZER',\n",
       "       'HON STEVE RUSSELL', 'HON ELISE M STEFANIK', 'HON MARK TAKAI',\n",
       "       'HON NORMA J TORRES', 'HON DAVID A TROTT', 'HON MARK WALKER',\n",
       "       'HON MIMI WALTERS', 'HON BONNIE WATSON COLEMAN',\n",
       "       'HON BRUCE WESTERMAN', 'HON DAVID YOUNG', 'HON LEE M ZELDIN',\n",
       "       'HON RYAN K ZINKE', 'HON DANIEL M DONOVAN JR', 'HON TRENT KELLY',\n",
       "       'HON DARIN LAHOOD', 'HON PAUL D RYAN', 'HON 8TH DISTRICT OF OHIO',\n",
       "       'HON WARREN DAVIDSON', 'HON JAMES COMER', 'HON DWIGHT EVANS',\n",
       "       'HON JODEY C ARRINGTON', 'HON DON BACON', 'HON JIM BANKS',\n",
       "       'HON NANETTE DIAZ BARRAGAN', 'HON JACK BERGMAN', 'HON ANDY BIGGS',\n",
       "       'HON ROD BLUM', 'HON ANTHONY G BROWN', 'HON TED BUDD',\n",
       "       'HON SALUD O CARBAJAL', 'HON LIZ CHENEY', 'HON J LUIS CORREA',\n",
       "       'HON CHARLIE CRIST', 'HON VAL BUTLER DEMINGS', 'HON NEAL P DUNN',\n",
       "       'HON ADRIANO ESPAILLAT', 'HON JOHN J FASO',\n",
       "       'HON A DREW FERGUSON IV', 'HON BRIAN K FITZPATRICK',\n",
       "       'HON MATT GAETZ', 'HON MIKE GALLAGHER', 'HON THOMAS A GARRETT JR',\n",
       "       'HON VICENTE GONZALEZ', 'HON JENNIFFER GONZALEZ COLON',\n",
       "       'HON JOSH S GOTTHEIMER', 'HON CLAY HIGGINS',\n",
       "       'HON TREY HOLLINGSWORTH', 'HON PRAMILA JAYAPAL', 'HON MIKE JOHNSON',\n",
       "       'HON RO KHANNA', 'HON RUBEN J KIHUEN', 'HON RAJA KRISHNAMOORTHI',\n",
       "       'HON DAVID KUSTOFF', 'HON AL LAWSON JR', 'HON JASON LEWIS',\n",
       "       'HON ROGER W MARSHALL', 'HON BRIAN J MAST', 'HON A DONALD MCEACHIN',\n",
       "       'HON PAUL MITCHELL', 'HON STEPHANIE N MURPHY', \"HON TOM O'HALLERAN\",\n",
       "       'HON BETO O ROURKE', 'HON JIMMY PANETTA', 'HON DONALD M PAYNE JR',\n",
       "       'HON JAMIE RASKIN', 'HON LISA BLUNT ROCHESTER',\n",
       "       'HON FRANCIS ROONEY', 'HON JACKY ROSEN', 'HON JOHN H RUTHERFORD',\n",
       "       'HON LLOYD SMUCKER', 'HON DARREN SOTO', 'HON THOMAS R SUOZZI',\n",
       "       'HON SCOTT TAYLOR', 'HON CLAUDIA TENNEY', 'HON RON ESTES',\n",
       "       'HON GREG GIANFORTE', 'HON JIMMY GOMEZ', 'HON KAREN C HANDEL',\n",
       "       'HON RALPH NORMAN', 'HON JO ANN DAVIS', 'HON JOHN R CURTIS'], dtype=object)"
      ]
     },
     "execution_count": 44,
     "metadata": {},
     "output_type": "execute_result"
    }
   ],
   "source": [
    "representatives"
   ]
  },
  {
   "cell_type": "code",
   "execution_count": 45,
   "metadata": {
    "collapsed": true
   },
   "outputs": [],
   "source": [
    "def payee_norm(x):\n",
    "    if type(x) != str:\n",
    "        return x\n",
    "    x = x.replace(',', ' ')\n",
    "    x = x.replace('.', ' ')\n",
    "    return ' '.join(x.split())\n",
    "\n",
    "salaries = []\n",
    "for name, item in series_csv.items():\n",
    "    mask = (item['START DATE_'] >= date(2016, 1, 1)) & (item['START DATE_'] <= date(2016, 12, 31))\n",
    "    mask &= item['CATEGORY'] == \"PERSONNEL COMPENSATION\"\n",
    "    item['PAYEE_'] = item['PAYEE'].apply(payee_norm)\n",
    "    salaries.append(item.loc[mask])\n",
    "salaries = pd.concat(salaries, ignore_index = True, sort=False)"
   ]
  },
  {
   "cell_type": "code",
   "execution_count": 46,
   "metadata": {},
   "outputs": [
    {
     "data": {
      "text/plain": [
       "65064.538124999999"
      ]
     },
     "execution_count": 46,
     "metadata": {},
     "output_type": "execute_result"
    }
   ],
   "source": [
    "# salaries.groupby('PAYEE_')['AMOUNT'].sum()\n",
    "mask = salaries['OFFICE_'].apply(lambda x: x[:4] == 'HON ')\n",
    "individual_salaries = salaries[mask].groupby(['OFFICE_', \"PAYEE_\"])[\"AMOUNT_\"].sum()\n",
    "individual_salaries.groupby('OFFICE_').mean().max()/100\n"
   ]
  },
  {
   "cell_type": "code",
   "execution_count": 47,
   "metadata": {},
   "outputs": [
    {
     "data": {
      "text/plain": [
       "PAYEE_\n",
       "ADJEI-KORANTENG ARABA     3578335\n",
       "BARNES SHAYNAH            5343619\n",
       "CAHAN JACLYN M            6805000\n",
       "FERNANDEZ BRUCE           9628335\n",
       "FOWKES ROBERT J           9577915\n",
       "GORDON GRETA H            3679165\n",
       "GORDON JAMES P            8036665\n",
       "HOLLINGSHEAD MEGAN M      3600004\n",
       "KING JOSEPH T             3148889\n",
       "LYNCH F D                 8337665\n",
       "MURPHY JOHN P             3401250\n",
       "OSORIO MARIANA T          5645415\n",
       "RYAN ROBERT K            15333335\n",
       "SILVA NATASHA A           3600004\n",
       "ZAFERAKIS NICHOLAS        8337665\n",
       "ZAPPALA ELIZABETH N       6050000\n",
       "Name: AMOUNT_, dtype: int64"
      ]
     },
     "execution_count": 47,
     "metadata": {},
     "output_type": "execute_result"
    }
   ],
   "source": [
    "mask = salaries['OFFICE_'].apply(lambda x: x == 'HON STEPHEN F LYNCH')\n",
    "individual_salaries = salaries[mask].groupby(\"PAYEE_\")[\"AMOUNT_\"].sum()\n",
    "individual_salaries"
   ]
  },
  {
   "cell_type": "markdown",
   "metadata": {},
   "source": [
    "### Median rate of turnover"
   ]
  },
  {
   "cell_type": "code",
   "execution_count": 96,
   "metadata": {
    "collapsed": true,
    "scrolled": true
   },
   "outputs": [],
   "source": [
    "serve_years = pd.DataFrame(0, index = representatives, columns = list(range(2009, 2019)) + ['total'])\n",
    "for year in range(2009, 2019):\n",
    "    whole_year = []\n",
    "    for key, item in series_csv.items():\n",
    "        if key[:4] == str(year):\n",
    "            whole_year.append(item[['OFFICE_', 'PAYEE_']])\n",
    "    whole_year = pd.concat(whole_year, ignore_index = True)\n",
    "    mask = whole_year['OFFICE_'].apply(lambda x: x[:4] == 'HON ')\n",
    "    whole_year = whole_year.loc[mask]\n",
    "    whole_year = whole_year.groupby('OFFICE_')['PAYEE_'].nunique()\n",
    "    names = whole_year[whole_year >= 5].index\n",
    "    serve_years.loc[names, 'total'] += 1\n",
    "    serve_years.loc[names, year] = 1\n",
    "\n",
    "mask = serve_years['total'] >= 4\n",
    "qualified = serve_years[mask]\n",
    "qualified_members = qualified.index"
   ]
  },
  {
   "cell_type": "code",
   "execution_count": 104,
   "metadata": {},
   "outputs": [
    {
     "data": {
      "text/plain": [
       "0.016431924882629109"
      ]
     },
     "execution_count": 104,
     "metadata": {},
     "output_type": "execute_result"
    }
   ],
   "source": [
    "rate = pd.Series(0, list(range(2011, 2017)))\n",
    "for year in range(2011, 2017):\n",
    "    mask = qualified[year-1] == 1\n",
    "    last_year = mask.sum()\n",
    "    this_year = (qualified.loc[mask, year] == 0).sum()\n",
    "    rate.loc[year] = 1.0 * this_year/last_year\n",
    "rate.median()"
   ]
  }
 ],
 "metadata": {
  "kernelspec": {
   "display_name": "Python 3",
   "language": "python",
   "name": "python3"
  },
  "language_info": {
   "codemirror_mode": {
    "name": "ipython",
    "version": 3
   },
   "file_extension": ".py",
   "mimetype": "text/x-python",
   "name": "python",
   "nbconvert_exporter": "python",
   "pygments_lexer": "ipython3",
   "version": "3.6.1"
  }
 },
 "nbformat": 4,
 "nbformat_minor": 2
}
