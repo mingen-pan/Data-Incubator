{
 "cells": [
  {
   "cell_type": "code",
   "execution_count": 200,
   "metadata": {
    "collapsed": true
   },
   "outputs": [],
   "source": [
    "import numpy as np\n",
    "import pandas as pd\n",
    "import os\n",
    "from datetime import date\n",
    "import matplotlib.pyplot as plt\n",
    "import time\n",
    "import sys"
   ]
  },
  {
   "cell_type": "markdown",
   "metadata": {},
   "source": [
    "## Q2"
   ]
  },
  {
   "cell_type": "code",
   "execution_count": 207,
   "metadata": {
    "collapsed": true
   },
   "outputs": [],
   "source": [
    "def forward(old_df, remain, M):\n",
    "    ## ID, points, last, [remains], counts/prob\n",
    "    species = []\n",
    "    for i in range(M):\n",
    "        species.append(str(i))\n",
    "    new_df = pd.DataFrame(columns = ['points', 'last'] + species + ['prob'])\n",
    "    def forward_(row, new_df, remain, M):\n",
    "        ## points, last, [species], counts\n",
    "        for i in range(M):\n",
    "            if row[i + 2] - 1 < 0:\n",
    "                continue\n",
    "            res = row.copy()\n",
    "            res[i + 2] = row[i + 2] - 1\n",
    "            if i == row[1]:\n",
    "                res[0] = row[0] + 1\n",
    "            res[1] = i\n",
    "            res[-1] = row[-1] * 1.0 * row[i + 2]/remain\n",
    "                                        \n",
    "            idx = res[0]\n",
    "            idx = 100*idx + res[1]\n",
    "            for i in range(M):\n",
    "                idx = 100*idx + res[i + 2]                           \n",
    "            if idx in new_df.index:\n",
    "                new_df.loc[idx, 'prob'] += res[-1]\n",
    "            else:\n",
    "                new_df.loc[idx] = res\n",
    "    old_df.apply(lambda x: forward_(x, new_df, remain, M), axis = 1)\n",
    "    return new_df\n",
    "\n",
    "old_df = pd.DataFrame(columns = ['points', 'last'] + ['0', '1'] + ['prob'])\n",
    "old_df.loc[21313] = [0, 2, 13, 13, 1]"
   ]
  },
  {
   "cell_type": "code",
   "execution_count": 212,
   "metadata": {
    "scrolled": true
   },
   "outputs": [
    {
     "name": "stdout",
     "output_type": "stream",
     "text": [
      "0\n",
      "1\n",
      "2\n",
      "3\n",
      "4\n",
      "5\n",
      "        points last  0  1  prob\n",
      "4010000      4    1  0  0  0.05\n",
      "2010000      2    1  0  0  0.20\n",
      "3000000      3    0  0  0  0.10\n",
      "10000        0    1  0  0  0.05\n",
      "1000000      1    0  0  0  0.10\n",
      "3010000      3    1  0  0  0.10\n",
      "1010000      1    1  0  0  0.10\n",
      "2000000      2    0  0  0  0.20\n",
      "0            0    0  0  0  0.05\n",
      "4000000      4    0  0  0  0.05\n"
     ]
    },
    {
     "data": {
      "text/plain": [
       "1.0"
      ]
     },
     "execution_count": 212,
     "metadata": {},
     "output_type": "execute_result"
    }
   ],
   "source": [
    "df = pd.DataFrame(columns = ['points', 'last'] + ['0', '1'] + ['prob'])\n",
    "df.loc[20303] = [0, 2, 3, 3, 1]\n",
    "\n",
    "N = 6\n",
    "M = 2\n",
    "for j in range(N):\n",
    "    print(j)\n",
    "    df = forward(df, N-j, M)\n",
    "print(df)\n",
    "df['prob'].sum()"
   ]
  },
  {
   "cell_type": "code",
   "execution_count": 213,
   "metadata": {
    "scrolled": true
   },
   "outputs": [
    {
     "name": "stdout",
     "output_type": "stream",
     "text": [
      "0\n",
      "1\n",
      "2\n",
      "3\n",
      "4\n",
      "5\n",
      "6\n",
      "7\n",
      "8\n",
      "9\n",
      "10\n",
      "11\n",
      "12\n",
      "13\n",
      "14\n",
      "15\n",
      "16\n",
      "17\n",
      "18\n",
      "19\n",
      "20\n",
      "21\n",
      "22\n",
      "23\n",
      "24\n",
      "25\n",
      "         points last  0  1          prob\n",
      "24010000     24    1  0  0  9.614830e-08\n",
      "22010000     22    1  0  0  1.384536e-05\n",
      "23000000     23    0  0  0  1.153780e-06\n",
      "20010000     20    1  0  0  4.188220e-04\n",
      "21000000     21    0  0  0  7.614945e-05\n",
      "18010000     18    1  0  0  4.653578e-03\n",
      "19000000     19    0  0  0  1.396073e-03\n",
      "16010000     16    1  0  0  2.355874e-02\n",
      "17000000     17    0  0  0  1.047055e-02\n",
      "14010000     14    1  0  0  6.031037e-02\n",
      "15000000     15    0  0  0  3.769398e-02\n",
      "12010000     12    1  0  0  8.208911e-02\n",
      "13000000     13    0  0  0  7.036209e-02\n",
      "10010000     10    1  0  0  6.031037e-02\n",
      "11000000     11    0  0  0  7.036209e-02\n",
      "8010000       8    1  0  0  2.355874e-02\n",
      "9000000       9    0  0  0  3.769398e-02\n",
      "6010000       6    1  0  0  4.653578e-03\n",
      "7000000       7    0  0  0  1.047055e-02\n",
      "4010000       4    1  0  0  4.188220e-04\n",
      "5000000       5    0  0  0  1.396073e-03\n",
      "2010000       2    1  0  0  1.384536e-05\n",
      "3000000       3    0  0  0  7.614945e-05\n",
      "10000         0    1  0  0  9.614830e-08\n",
      "1000000       1    0  0  0  1.153780e-06\n",
      "23010000     23    1  0  0  1.153780e-06\n",
      "21010000     21    1  0  0  7.614945e-05\n",
      "22000000     22    0  0  0  1.384536e-05\n",
      "19010000     19    1  0  0  1.396073e-03\n",
      "20000000     20    0  0  0  4.188220e-04\n",
      "17010000     17    1  0  0  1.047055e-02\n",
      "18000000     18    0  0  0  4.653578e-03\n",
      "15010000     15    1  0  0  3.769398e-02\n",
      "16000000     16    0  0  0  2.355874e-02\n",
      "13010000     13    1  0  0  7.036209e-02\n",
      "14000000     14    0  0  0  6.031037e-02\n",
      "11010000     11    1  0  0  7.036209e-02\n",
      "12000000     12    0  0  0  8.208911e-02\n",
      "9010000       9    1  0  0  3.769398e-02\n",
      "10000000     10    0  0  0  6.031037e-02\n",
      "7010000       7    1  0  0  1.047055e-02\n",
      "8000000       8    0  0  0  2.355874e-02\n",
      "5010000       5    1  0  0  1.396073e-03\n",
      "6000000       6    0  0  0  4.653578e-03\n",
      "3010000       3    1  0  0  7.614945e-05\n",
      "4000000       4    0  0  0  4.188220e-04\n",
      "1010000       1    1  0  0  1.153780e-06\n",
      "2000000       2    0  0  0  1.384536e-05\n",
      "0             0    0  0  0  9.614830e-08\n",
      "24000000     24    0  0  0  9.614830e-08\n"
     ]
    },
    {
     "data": {
      "text/plain": [
       "1.0"
      ]
     },
     "execution_count": 213,
     "metadata": {},
     "output_type": "execute_result"
    }
   ],
   "source": [
    "df = pd.DataFrame(columns = ['points', 'last'] + ['0', '1'] + ['prob'])\n",
    "df.loc[21313] = [0, 2, 13, 13, 1]\n",
    "N = 26\n",
    "M = 2\n",
    "for j in range(N):\n",
    "    print(j)\n",
    "    df = forward(df, N-j, M)\n",
    "print(df)\n",
    "df['prob'].sum()"
   ]
  },
  {
   "cell_type": "code",
   "execution_count": 214,
   "metadata": {
    "scrolled": true
   },
   "outputs": [
    {
     "data": {
      "image/png": "[encoded data removed]",
      "text/plain": [
       "<matplotlib.figure.Figure at 0x13e880f60>"
      ]
     },
     "metadata": {},
     "output_type": "display_data"
    },
    {
     "name": "stdout",
     "output_type": "stream",
     "text": [
      "points\n",
      "0     1.922966e-07\n",
      "1     2.307559e-06\n",
      "2     2.769071e-05\n",
      "3     1.522989e-04\n",
      "4     8.376440e-04\n",
      "5     2.792147e-03\n",
      "6     9.307155e-03\n",
      "7     2.094110e-02\n",
      "8     4.711747e-02\n",
      "9     7.538796e-02\n",
      "10    1.206207e-01\n",
      "11    1.407242e-01\n",
      "12    1.641782e-01\n",
      "13    1.407242e-01\n",
      "14    1.206207e-01\n",
      "15    7.538796e-02\n",
      "16    4.711747e-02\n",
      "17    2.094110e-02\n",
      "18    9.307155e-03\n",
      "19    2.792147e-03\n",
      "20    8.376440e-04\n",
      "21    1.522989e-04\n",
      "22    2.769071e-05\n",
      "23    2.307559e-06\n",
      "24    1.922966e-07\n",
      "Name: prob, dtype: float64\n"
     ]
    }
   ],
   "source": [
    "prob = df.groupby('points')['prob'].sum()\n",
    "plt.bar(prob.index, prob)\n",
    "plt.show()\n",
    "print(prob)"
   ]
  },
  {
   "cell_type": "code",
   "execution_count": 215,
   "metadata": {},
   "outputs": [
    {
     "name": "stdout",
     "output_type": "stream",
     "text": [
      "12.0 6.24 2.49799919936\n"
     ]
    },
    {
     "data": {
      "text/plain": [
       "0.42346653156861502"
      ]
     },
     "execution_count": 215,
     "metadata": {},
     "output_type": "execute_result"
    }
   ],
   "source": [
    "def mean_and_var(key, prob):\n",
    "    key = np.array(key)\n",
    "    prob = np.array(prob)\n",
    "    if abs(np.sum(prob) - 1) >= 1e-10:\n",
    "        prob = prob/np.sum(prob)\n",
    "    mean = np.sum(key * prob)\n",
    "    var = np.sum(prob * (key - mean)**2)\n",
    "    return mean, var\n",
    "\n",
    "mean, var = mean_and_var(prob.index, prob)\n",
    "print(mean, var, np.sqrt(var))\n",
    "\n",
    "def condition_greater(prob, A, B):\n",
    "    ## P(X > A| X> B)\n",
    "    mask = prob.index > A\n",
    "    prob_A = prob.loc[mask].sum()\n",
    "    mask = prob.index > B\n",
    "    prob_B = prob.loc[mask].sum()\n",
    "    return prob_A/prob_B\n",
    "\n",
    "condition_greater(prob, 12, 6)"
   ]
  },
  {
   "cell_type": "markdown",
   "metadata": {},
   "source": [
    "### N = 52, M = 4"
   ]
  },
  {
   "cell_type": "code",
   "execution_count": 217,
   "metadata": {
    "scrolled": true
   },
   "outputs": [
    {
     "name": "stdout",
     "output_type": "stream",
     "text": [
      "0 0.03 sec\n",
      "1 0.07 sec\n",
      "2 0.14 sec\n",
      "3 0.41 sec\n",
      "4 0.96 sec\n",
      "5 2.07 sec\n",
      "6 3.83 sec\n",
      "7 6.78 sec\n",
      "8 11.49 sec\n",
      "9 17.63 sec\n",
      "10 27.38 sec\n",
      "11 42.50 sec\n",
      "12 65.33 sec\n",
      "13 90.64 sec\n",
      "14 130.40 sec\n",
      "15 185.46 sec\n",
      "16 248.73 sec\n",
      "17 350.86 sec\n",
      "18 477.69 sec\n",
      "19 608.80 sec\n",
      "20 757.43 sec\n",
      "21 988.88 sec\n",
      "22 1258.68 sec\n",
      "23 1498.59 sec\n",
      "24 1712.19 sec\n",
      "25 1906.57 sec\n",
      "26 2050.93 sec\n",
      "27 2565.91 sec\n",
      "28 2255.73 sec\n",
      "29 2304.82 sec\n",
      "30 2101.96 sec\n",
      "31 1988.11 sec\n",
      "32 1838.52 sec\n",
      "33 1655.99 sec\n",
      "34 1467.63 sec\n",
      "35 1233.53 sec\n",
      "36 978.49 sec\n",
      "37 769.81 sec\n",
      "38 620.30 sec\n",
      "39 489.85 sec\n",
      "40 357.36 sec\n",
      "41 261.98 sec\n",
      "42 196.74 sec\n",
      "43 138.60 sec\n",
      "44 96.04 sec\n",
      "45 64.78 sec\n",
      "46 41.79 sec\n",
      "47 25.57 sec\n",
      "48 14.78 sec\n",
      "49 7.54 sec\n",
      "50 3.08 sec\n",
      "51 0.81 sec\n",
      "             points last  0  1  2  3          prob\n",
      "480300000000     48    3  0  0  0  0  1.118469e-28\n",
      "460300000000     46    3  0  0  0  0  3.677528e-25\n",
      "470200000000     47    2  0  0  0  0  8.052980e-27\n",
      "440300000000     44    3  0  0  0  0  3.179719e-22\n",
      "450200000000     45    2  0  0  0  0  1.220071e-23\n",
      "420300000000     42    3  0  0  0  0  1.215953e-19\n",
      "430200000000     43    2  0  0  0  0  6.778531e-21\n",
      "400300000000     40    3  0  0  0  0  2.509706e-17\n",
      "410200000000     41    2  0  0  0  0  1.871838e-18\n",
      "380300000000     38    3  0  0  0  0  3.112956e-15\n",
      "390200000000     39    2  0  0  0  0  2.964442e-16\n",
      "360300000000     36    3  0  0  0  0  2.480538e-13\n",
      "370200000000     37    2  0  0  0  0  2.927533e-14\n",
      "340300000000     34    3  0  0  0  0  1.327674e-11\n",
      "350200000000     35    2  0  0  0  0  1.903150e-12\n",
      "320300000000     32    3  0  0  0  0  4.922834e-10\n",
      "330200000000     33    2  0  0  0  0  8.451156e-11\n",
      "300300000000     30    3  0  0  0  0  1.292097e-08\n",
      "310200000000     31    2  0  0  0  0  2.630562e-09\n",
      "280300000000     28    3  0  0  0  0  2.436478e-07\n",
      "290200000000     29    2  0  0  0  0  5.843516e-08\n",
      "260300000000     26    3  0  0  0  0  3.332186e-06\n",
      "270200000000     27    2  0  0  0  0  9.375745e-07\n",
      "240300000000     24    3  0  0  0  0  3.321596e-05\n",
      "250200000000     25    2  0  0  0  0  1.094317e-05\n",
      "470300000000     47    3  0  0  0  0  8.052980e-27\n",
      "450300000000     45    3  0  0  0  0  1.220071e-23\n",
      "460200000000     46    2  0  0  0  0  3.677528e-25\n",
      "430300000000     43    3  0  0  0  0  6.778531e-21\n",
      "440200000000     44    2  0  0  0  0  3.179719e-22\n",
      "...             ...  ... .. .. .. ..           ...\n",
      "70000000000       7    0  0  0  0  0  8.645080e-03\n",
      "60300000000       6    3  0  0  0  0  4.377586e-03\n",
      "60200000000       6    2  0  0  0  0  4.377586e-03\n",
      "60100000000       6    1  0  0  0  0  4.377586e-03\n",
      "60000000000       6    0  0  0  0  0  4.377586e-03\n",
      "50300000000       5    3  0  0  0  0  1.860154e-03\n",
      "50200000000       5    2  0  0  0  0  1.860154e-03\n",
      "50100000000       5    1  0  0  0  0  1.860154e-03\n",
      "50000000000       5    0  0  0  0  0  1.860154e-03\n",
      "40300000000       4    3  0  0  0  0  6.452687e-04\n",
      "40200000000       4    2  0  0  0  0  6.452687e-04\n",
      "40100000000       4    1  0  0  0  0  6.452687e-04\n",
      "40000000000       4    0  0  0  0  0  6.452687e-04\n",
      "30300000000       3    3  0  0  0  0  1.755242e-04\n",
      "30200000000       3    2  0  0  0  0  1.755242e-04\n",
      "30100000000       3    1  0  0  0  0  1.755242e-04\n",
      "30000000000       3    0  0  0  0  0  1.755242e-04\n",
      "20300000000       2    3  0  0  0  0  3.512045e-05\n",
      "20200000000       2    2  0  0  0  0  3.512045e-05\n",
      "20100000000       2    1  0  0  0  0  3.512045e-05\n",
      "20000000000       2    0  0  0  0  0  3.512045e-05\n",
      "10300000000       1    3  0  0  0  0  4.597293e-06\n",
      "10200000000       1    2  0  0  0  0  4.597293e-06\n",
      "10100000000       1    1  0  0  0  0  4.597293e-06\n",
      "10000000000       1    0  0  0  0  0  4.597293e-06\n",
      "300000000         0    3  0  0  0  0  2.954369e-07\n",
      "200000000         0    2  0  0  0  0  2.954369e-07\n",
      "100000000         0    1  0  0  0  0  2.954369e-07\n",
      "0                 0    0  0  0  0  0  2.954369e-07\n",
      "480000000000     48    0  0  0  0  0  1.118469e-28\n",
      "\n",
      "[196 rows x 7 columns]\n"
     ]
    },
    {
     "data": {
      "text/plain": [
       "1.0"
      ]
     },
     "execution_count": 217,
     "metadata": {},
     "output_type": "execute_result"
    }
   ],
   "source": [
    "N = 52\n",
    "M = 4\n",
    "\n",
    "df = pd.DataFrame(columns = ['points', 'last'] + ['0', '1', '2', '3'] + ['prob'])\n",
    "df.loc[413131313] = [0, M, N//M, N//M, N//M, N//M, 1]\n",
    "\n",
    "for j in range(N):\n",
    "    sys.stdout.write(str(j) + ' ')\n",
    "    sys.stdout.flush()\n",
    "    cur = time.time()\n",
    "    df = forward(df, N - j, M)\n",
    "    print(\"%.2f sec\" % (time.time() - cur))\n",
    "\n",
    "print(df)\n",
    "df['prob'].sum()"
   ]
  },
  {
   "cell_type": "code",
   "execution_count": 218,
   "metadata": {
    "scrolled": true
   },
   "outputs": [
    {
     "data": {
      "image/png": "[encoded data removed]",
      "text/plain": [
       "<matplotlib.figure.Figure at 0x12e5d7198>"
      ]
     },
     "metadata": {},
     "output_type": "display_data"
    },
    {
     "name": "stdout",
     "output_type": "stream",
     "text": [
      "points\n",
      "0     1.181747e-06\n",
      "1     1.838917e-05\n",
      "2     1.404818e-04\n",
      "3     7.020968e-04\n",
      "4     2.581075e-03\n",
      "5     7.440618e-03\n",
      "6     1.751034e-02\n",
      "7     3.458032e-02\n",
      "8     5.846511e-02\n",
      "9     8.591302e-02\n",
      "10    1.110256e-01\n",
      "11    1.273670e-01\n",
      "12    1.306939e-01\n",
      "13    1.207044e-01\n",
      "14    1.008561e-01\n",
      "15    7.657080e-02\n",
      "16    5.301180e-02\n",
      "17    3.356934e-02\n",
      "18    1.949267e-02\n",
      "19    1.040086e-02\n",
      "20    5.108389e-03\n",
      "21    2.312689e-03\n",
      "22    9.661350e-04\n",
      "23    3.727272e-04\n",
      "24    1.328638e-04\n",
      "25    4.377268e-05\n",
      "26    1.332875e-05\n",
      "27    3.750298e-06\n",
      "28    9.745910e-07\n",
      "29    2.337406e-07\n",
      "30    5.168388e-08\n",
      "31    1.052225e-08\n",
      "32    1.969134e-09\n",
      "33    3.380462e-10\n",
      "34    5.310697e-11\n",
      "35    7.612598e-12\n",
      "36    9.922151e-13\n",
      "37    1.171013e-13\n",
      "38    1.245182e-14\n",
      "39    1.185777e-15\n",
      "40    1.003882e-16\n",
      "41    7.487351e-18\n",
      "42    4.863811e-19\n",
      "43    2.711413e-20\n",
      "44    1.271888e-21\n",
      "45    4.880285e-23\n",
      "46    1.471011e-24\n",
      "47    3.221192e-26\n",
      "48    4.473878e-28\n",
      "Name: prob, dtype: float64\n"
     ]
    }
   ],
   "source": [
    "prob = df.groupby('points')['prob'].sum()\n",
    "plt.bar(prob.index, prob)\n",
    "plt.show()\n",
    "print(prob)"
   ]
  },
  {
   "cell_type": "code",
   "execution_count": 220,
   "metadata": {},
   "outputs": [
    {
     "name": "stdout",
     "output_type": "stream",
     "text": [
      "12.0 9.17647058824 3.02926898578\n"
     ]
    },
    {
     "data": {
      "text/plain": [
       "0.43593897575355484"
      ]
     },
     "execution_count": 220,
     "metadata": {},
     "output_type": "execute_result"
    }
   ],
   "source": [
    "mean, var = mean_and_var(prob.index, prob)\n",
    "print(mean, var, np.sqrt(var))\n",
    "\n",
    "condition_greater(prob, 12, 6)"
   ]
  },
  {
   "cell_type": "code",
   "execution_count": null,
   "metadata": {
    "collapsed": true
   },
   "outputs": [],
   "source": []
  }
 ],
 "metadata": {
  "kernelspec": {
   "display_name": "Python 3",
   "language": "python",
   "name": "python3"
  },
  "language_info": {
   "codemirror_mode": {
    "name": "ipython",
    "version": 3
   },
   "file_extension": ".py",
   "mimetype": "text/x-python",
   "name": "python",
   "nbconvert_exporter": "python",
   "pygments_lexer": "ipython3",
   "version": "3.6.1"
  }
 },
 "nbformat": 4,
 "nbformat_minor": 2
}
